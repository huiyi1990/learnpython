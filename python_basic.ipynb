{
 "cells": [
  {
   "cell_type": "code",
   "execution_count": 1,
   "metadata": {
    "collapsed": false
   },
   "outputs": [
    {
     "data": {
      "text/plain": [
       "2"
      ]
     },
     "execution_count": 1,
     "metadata": {},
     "output_type": "execute_result"
    }
   ],
   "source": [
    "abs(-2)"
   ]
  },
  {
   "cell_type": "code",
   "execution_count": 2,
   "metadata": {
    "collapsed": false
   },
   "outputs": [
    {
     "data": {
      "text/plain": [
       "2"
      ]
     },
     "execution_count": 2,
     "metadata": {},
     "output_type": "execute_result"
    }
   ],
   "source": [
    "len([-2,-3])"
   ]
  },
  {
   "cell_type": "code",
   "execution_count": 3,
   "metadata": {
    "collapsed": false
   },
   "outputs": [
    {
     "data": {
      "text/plain": [
       "2"
      ]
     },
     "execution_count": 3,
     "metadata": {},
     "output_type": "execute_result"
    }
   ],
   "source": [
    "tabs = abs\n",
    "tabs = len\n",
    "tabs([-2,-3]) #set new function to abs, which make abs to become the fuction len"
   ]
  },
  {
   "cell_type": "code",
   "execution_count": 2,
   "metadata": {
    "collapsed": false
   },
   "outputs": [
    {
     "name": "stdout",
     "output_type": "stream",
     "text": [
      "10\n",
      "4.472135955\n"
     ]
    }
   ],
   "source": [
    "def add(x,y,f):\n",
    "    return f(x) + f(y)\n",
    "print add(-5,5,abs)\n",
    "print add(5,5,sqrt)"
   ]
  },
  {
   "cell_type": "code",
   "execution_count": 3,
   "metadata": {
    "collapsed": false
   },
   "outputs": [
    {
     "data": {
      "text/plain": [
       "[1, 5, 5]"
      ]
     },
     "execution_count": 3,
     "metadata": {},
     "output_type": "execute_result"
    }
   ],
   "source": [
    "def is_odd(x):\n",
    "    return x%2==1\n",
    "filter(is_odd,[1,4,5,5,6])#return true or false , and false is filtered"
   ]
  },
  {
   "cell_type": "code",
   "execution_count": 4,
   "metadata": {
    "collapsed": false
   },
   "outputs": [
    {
     "name": "stdout",
     "output_type": "stream",
     "text": [
      "callf1()\n",
      "10\n"
     ]
    }
   ],
   "source": [
    "#装饰器用于在不修改原函数的情况下，增强原函数的功能\n",
    "def f1(x):\n",
    "    return x*2\n",
    "def new_fn(f):#这个就是用高阶函数用于装饰\n",
    "    def fn(x):\n",
    "        print 'call'+f.__name__+'()'\n",
    "        return f(x)\n",
    "    return fn\n",
    "f1 = new_fn(f1)\n",
    "print f1(5) #相当于对f1进行了修改"
   ]
  },
  {
   "cell_type": "code",
   "execution_count": 5,
   "metadata": {
    "collapsed": false
   },
   "outputs": [
    {
     "name": "stdout",
     "output_type": "stream",
     "text": [
      "call add()...\n",
      "3\n"
     ]
    }
   ],
   "source": [
    "def log(f):\n",
    "    def fn(*args, **kw):\n",
    "        print 'call ' + f.__name__ + '()...'\n",
    "        return f(*args, **kw)\n",
    "    return fn\n",
    "\n",
    "@log\n",
    "def add(x, y):\n",
    "    return x + y\n",
    "print add(1, 2)#首先定义一个装饰器，然后在需要使用函数前面添加一个@function_name就可以了\n"
   ]
  },
  {
   "cell_type": "code",
   "execution_count": 61,
   "metadata": {
    "collapsed": false
   },
   "outputs": [
    {
     "name": "stdout",
     "output_type": "stream",
     "text": [
      "[DEBUG] test()...\n",
      "None\n",
      "wrapper\n"
     ]
    }
   ],
   "source": [
    "def log(prefix):\n",
    "    def log_decorator(f):\n",
    "        def wrapper(*args, **kw):\n",
    "            print '[%s] %s()...' % (prefix, f.__name__)\n",
    "            return f(*args, **kw)\n",
    "        return wrapper\n",
    "    return log_decorator\n",
    "\n",
    "@log('DEBUG')\n",
    "def test():\n",
    "    pass\n",
    "print test()#通过两层装饰器完成对装饰器带函数的引入\n",
    "print test.__name__"
   ]
  },
  {
   "cell_type": "code",
   "execution_count": 63,
   "metadata": {
    "collapsed": false
   },
   "outputs": [
    {
     "name": "stdout",
     "output_type": "stream",
     "text": [
      "call...\n",
      "None\n",
      "test\n"
     ]
    }
   ],
   "source": [
    "import functools#通过这个把原函数自己的信息代入\n",
    "def log(f):\n",
    "    @functools.wraps(f)\n",
    "    def wrapper(*args, **kw):\n",
    "        print 'call...'\n",
    "        return f(*args, **kw)\n",
    "    return wrapper\n",
    "@log\n",
    "def test():\n",
    "    pass\n",
    "print test()#通过两层装饰器完成对装饰器带函数的引入\n",
    "print test.__name__"
   ]
  },
  {
   "cell_type": "code",
   "execution_count": 60,
   "metadata": {
    "collapsed": false
   },
   "outputs": [
    {
     "name": "stdout",
     "output_type": "stream",
     "text": [
      "call add using time :0.0709998607635\n",
      "3\n",
      "fn\n"
     ]
    }
   ],
   "source": [
    "#对函数用时的performance的装饰器\n",
    "import time\n",
    "def performance(f):\n",
    "\n",
    "    def fn(*args, **kw):\n",
    "\n",
    "        start = time.time()\n",
    "        a = f(*args, **kw)\n",
    "        end =time.time()\n",
    "        print 'call '+f.__name__+' using time :' + str(end-start)\n",
    "        return a\n",
    "    return fn\n",
    "@performance\n",
    "def add(x, y):\n",
    "    for i in range(1000000):\n",
    "        a=i\n",
    "    return x + y\n",
    "print add(1, 2)\n"
   ]
  },
  {
   "cell_type": "code",
   "execution_count": 64,
   "metadata": {
    "collapsed": false
   },
   "outputs": [
    {
     "name": "stdout",
     "output_type": "stream",
     "text": [
      "2.30258509299\n"
     ]
    }
   ],
   "source": [
    "from math import log\n",
    "from logging import log as logger   # logging的log现在变成了logger\n",
    "print log(10)   # 调用的是math的log\n",
    "logger(10, 'import from logging')   # 调用的是logging的log,这样解决了同名的问题"
   ]
  },
  {
   "cell_type": "code",
   "execution_count": 65,
   "metadata": {
    "collapsed": false
   },
   "outputs": [
    {
     "name": "stdout",
     "output_type": "stream",
     "text": [
      "0\n",
      "1\n"
     ]
    }
   ],
   "source": [
    "class Person(object):\n",
    "    count = 0\n",
    "    @classmethod\n",
    "    def how_many(cls):\n",
    "        return cls.count\n",
    "    def __init__(self, name):\n",
    "        self.name = name\n",
    "        Person.count = Person.count + 1\n",
    "\n",
    "print Person.how_many()\n",
    "p1 = Person('Bob')\n",
    "print Person.how_many()"
   ]
  },
  {
   "cell_type": "code",
   "execution_count": 67,
   "metadata": {
    "collapsed": false
   },
   "outputs": [
    {
     "data": {
      "text/plain": [
       "(Person: Bob, 12)"
      ]
     },
     "execution_count": 67,
     "metadata": {},
     "output_type": "execute_result"
    }
   ],
   "source": [
    "class Person(object):\n",
    "    def __init__(self, name, gender):\n",
    "        self.name = name\n",
    "        self.gender = gender\n",
    "    def __str__(self):\n",
    "        return '(Person: %s, %s)' % (self.name, self.gender)\n",
    "    __repr__ = __str__\n",
    "p=Person('Bob',12)\n",
    "p"
   ]
  },
  {
   "cell_type": "code",
   "execution_count": 68,
   "metadata": {
    "collapsed": false
   },
   "outputs": [
    {
     "data": {
      "text/plain": [
       "3"
      ]
     },
     "execution_count": 68,
     "metadata": {},
     "output_type": "execute_result"
    }
   ],
   "source": [
    "class Students(object):\n",
    "    def __init__(self, *args):\n",
    "        self.names = args\n",
    "    def __len__(self):\n",
    "        return len(self.names)\n",
    "\n",
    "ss = Students('1','2','3')\n",
    "len(ss)"
   ]
  },
  {
   "cell_type": "code",
   "execution_count": 69,
   "metadata": {
    "collapsed": false
   },
   "outputs": [
    {
     "name": "stdout",
     "output_type": "stream",
     "text": [
      "5/6\n"
     ]
    }
   ],
   "source": [
    "class Rational(object):\n",
    "    def __init__(self, p, q):\n",
    "        self.p = p\n",
    "        self.q = q\n",
    "    def __add__(self, r):\n",
    "        return Rational(self.p * r.q + self.q * r.p, self.q * r.q)\n",
    "    def __str__(self):\n",
    "        return '%s/%s' % (self.p, self.q)\n",
    "    __repr__ = __str__\n",
    "\n",
    "r1 = Rational(1, 3)\n",
    "r2 = Rational(1, 2)\n",
    "print r1 + r2\n",
    "#减法运算：__sub__\n",
    "#乘法运算：__mul__\n",
    "#除法运算：__div__"
   ]
  },
  {
   "cell_type": "code",
   "execution_count": 5,
   "metadata": {
    "collapsed": false
   },
   "outputs": [
    {
     "ename": "TypeError",
     "evalue": "unbound method prt() must be called with Test instance as first argument (got nothing instead)",
     "output_type": "error",
     "traceback": [
      "\u001b[1;31m---------------------------------------------------------------------------\u001b[0m",
      "\u001b[1;31mTypeError\u001b[0m                                 Traceback (most recent call last)",
      "\u001b[1;32m<ipython-input-5-2a12f070ecfe>\u001b[0m in \u001b[0;36m<module>\u001b[1;34m()\u001b[0m\n\u001b[0;32m      2\u001b[0m     \u001b[1;32mdef\u001b[0m \u001b[0mprt\u001b[0m\u001b[1;33m(\u001b[0m\u001b[1;33m)\u001b[0m\u001b[1;33m:\u001b[0m\u001b[1;33m\u001b[0m\u001b[0m\n\u001b[0;32m      3\u001b[0m         \u001b[1;32mprint\u001b[0m\u001b[1;33m(\u001b[0m\u001b[0m__class__\u001b[0m\u001b[1;33m)\u001b[0m\u001b[1;33m\u001b[0m\u001b[0m\n\u001b[1;32m----> 4\u001b[1;33m \u001b[0mTest\u001b[0m\u001b[1;33m.\u001b[0m\u001b[0mprt\u001b[0m\u001b[1;33m(\u001b[0m\u001b[1;33m)\u001b[0m\u001b[1;33m\u001b[0m\u001b[0m\n\u001b[0m",
      "\u001b[1;31mTypeError\u001b[0m: unbound method prt() must be called with Test instance as first argument (got nothing instead)"
     ]
    }
   ],
   "source": [
    "class Test:\n",
    "    def prt():\n",
    "        print(__class__)\n",
    "Test.prt()#在ipython没法运行"
   ]
  },
  {
   "cell_type": "code",
   "execution_count": 7,
   "metadata": {
    "collapsed": false
   },
   "outputs": [
    {
     "data": {
      "text/plain": [
       "{'a': 1, 'c': 1}"
      ]
     },
     "execution_count": 7,
     "metadata": {},
     "output_type": "execute_result"
    }
   ],
   "source": [
    "d = {'a':1, 'b':0, 'c':1, 'd':0}\n",
    "for i in d.keys():#在对字典遍历的时候建议用d.keys()\n",
    "    if d[i]==0:\n",
    "        del(d[i])\n",
    "d"
   ]
  },
  {
   "cell_type": "code",
   "execution_count": null,
   "metadata": {
    "collapsed": true
   },
   "outputs": [],
   "source": []
  }
 ],
 "metadata": {
  "kernelspec": {
   "display_name": "Python 2",
   "language": "python",
   "name": "python2"
  },
  "language_info": {
   "codemirror_mode": {
    "name": "ipython",
    "version": 2
   },
   "file_extension": ".py",
   "mimetype": "text/x-python",
   "name": "python",
   "nbconvert_exporter": "python",
   "pygments_lexer": "ipython2",
   "version": "2.7.10"
  }
 },
 "nbformat": 4,
 "nbformat_minor": 0
}
